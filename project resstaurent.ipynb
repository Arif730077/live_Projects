{
 "cells": [
  {
   "cell_type": "code",
   "execution_count": 1,
   "id": "c33f1903-a6bd-4f36-b7be-8fbb76994a6d",
   "metadata": {},
   "outputs": [
    {
     "name": "stdout",
     "output_type": "stream",
     "text": [
      "products list\n",
      "1. pizza-350\n",
      "2.burger-100\n",
      "3.momos-80\n",
      "4. noddles-60\n"
     ]
    },
    {
     "name": "stdin",
     "output_type": "stream",
     "text": [
      "enter your selection(1/2/3/4): 3\n"
     ]
    },
    {
     "name": "stdout",
     "output_type": "stream",
     "text": [
      "sorry your item does not avaliable\n",
      "thank you for visiting my restaurent\n"
     ]
    }
   ],
   "source": [
    "#Restaurent\n",
    "print('products list')\n",
    "print('1. pizza-350')\n",
    "print('2.burger-100')\n",
    "print('3.momos-80')\n",
    "print('4. noddles-60')\n",
    "\n",
    "#when customer enter \n",
    "selection=input('enter your selection(1/2/3/4):')\n",
    "\n",
    "#display amount of customer outside\n",
    "if selection=='pizza':\n",
    "    print('you have selected:pizza')\n",
    "    print('price:350')\n",
    "elif selection=='burger':\n",
    "    print('you have selected:burger')\n",
    "    print('price:100')\n",
    "elif selection=='momos':\n",
    "    print('you have selected:momos')\n",
    "    print('price:80')\n",
    "elif selection=='noddles':\n",
    "    print('you have selected:noddles')\n",
    "    print('price:60')\n",
    "else:\n",
    "    print('sorry your item does not avaliable')\n",
    "\n",
    "print('thank you for visiting my restaurent')\n",
    "\n"
   ]
  },
  {
   "cell_type": "code",
   "execution_count": null,
   "id": "02ddfb82-afc6-4889-8463-23423ed3de8a",
   "metadata": {},
   "outputs": [],
   "source": []
  }
 ],
 "metadata": {
  "kernelspec": {
   "display_name": "Python 3 (ipykernel)",
   "language": "python",
   "name": "python3"
  },
  "language_info": {
   "codemirror_mode": {
    "name": "ipython",
    "version": 3
   },
   "file_extension": ".py",
   "mimetype": "text/x-python",
   "name": "python",
   "nbconvert_exporter": "python",
   "pygments_lexer": "ipython3",
   "version": "3.12.4"
  }
 },
 "nbformat": 4,
 "nbformat_minor": 5
}
